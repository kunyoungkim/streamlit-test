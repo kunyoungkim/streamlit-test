{
  "nbformat": 4,
  "nbformat_minor": 0,
  "metadata": {
    "colab": {
      "provenance": [],
      "authorship_tag": "ABX9TyPJvhLAq54WfdegkZv8WmQx",
      "include_colab_link": true
    },
    "kernelspec": {
      "name": "python3",
      "display_name": "Python 3"
    },
    "language_info": {
      "name": "python"
    }
  },
  "cells": [
    {
      "cell_type": "markdown",
      "metadata": {
        "id": "view-in-github",
        "colab_type": "text"
      },
      "source": [
        "<a href=\"https://colab.research.google.com/github/kunyoungkim/streamlit-test/blob/main/font_sample.ipynb\" target=\"_parent\"><img src=\"https://colab.research.google.com/assets/colab-badge.svg\" alt=\"Open In Colab\"/></a>"
      ]
    },
    {
      "cell_type": "markdown",
      "source": [
        "### 폰트 전역 설정 (Windows)\n",
        "- 1단계 : 월하는 폰트 다운로드 받고, font 추가\n",
        "  - 고운 바탕체 : https://blog.naver.com/jhind8/222642297167\n",
        "- 2단계 : matplotlib cache 폴더 삭제 및 재부팅 필수\n",
        "- 3단계 : 폰트지정"
      ],
      "metadata": {
        "id": "m6Mf6te7nyiS"
      }
    },
    {
      "cell_type": "code",
      "source": [
        "import matplotlib as mpl\n",
        "print(f'캐시 디렉터리: {mpl.get_cachedir()}')"
      ],
      "metadata": {
        "colab": {
          "base_uri": "https://localhost:8080/"
        },
        "id": "3l7nb0v-oMAL",
        "outputId": "ee8d75c8-9099-4b32-e62e-e3f0cb58b8c0"
      },
      "execution_count": 1,
      "outputs": [
        {
          "output_type": "stream",
          "name": "stdout",
          "text": [
            "캐시 디렉터리: /root/.cache/matplotlib\n"
          ]
        }
      ]
    },
    {
      "cell_type": "code",
      "source": [
        "from matplotlib import font_manager\n",
        "\n",
        "sorted([f.name for f in font_manager.fontManager.ttflist])"
      ],
      "metadata": {
        "colab": {
          "base_uri": "https://localhost:8080/"
        },
        "id": "-81HuJmRn_Md",
        "outputId": "aad27bc8-e6a0-4996-a839-6f039979b80a"
      },
      "execution_count": 2,
      "outputs": [
        {
          "output_type": "execute_result",
          "data": {
            "text/plain": [
              "['DejaVu Sans',\n",
              " 'DejaVu Sans',\n",
              " 'DejaVu Sans',\n",
              " 'DejaVu Sans',\n",
              " 'DejaVu Sans Display',\n",
              " 'DejaVu Sans Mono',\n",
              " 'DejaVu Sans Mono',\n",
              " 'DejaVu Sans Mono',\n",
              " 'DejaVu Sans Mono',\n",
              " 'DejaVu Serif',\n",
              " 'DejaVu Serif',\n",
              " 'DejaVu Serif',\n",
              " 'DejaVu Serif',\n",
              " 'DejaVu Serif Display',\n",
              " 'Humor Sans',\n",
              " 'Liberation Mono',\n",
              " 'Liberation Mono',\n",
              " 'Liberation Mono',\n",
              " 'Liberation Mono',\n",
              " 'Liberation Sans',\n",
              " 'Liberation Sans',\n",
              " 'Liberation Sans',\n",
              " 'Liberation Sans',\n",
              " 'Liberation Sans Narrow',\n",
              " 'Liberation Sans Narrow',\n",
              " 'Liberation Sans Narrow',\n",
              " 'Liberation Sans Narrow',\n",
              " 'Liberation Serif',\n",
              " 'Liberation Serif',\n",
              " 'Liberation Serif',\n",
              " 'Liberation Serif',\n",
              " 'STIXGeneral',\n",
              " 'STIXGeneral',\n",
              " 'STIXGeneral',\n",
              " 'STIXGeneral',\n",
              " 'STIXNonUnicode',\n",
              " 'STIXNonUnicode',\n",
              " 'STIXNonUnicode',\n",
              " 'STIXNonUnicode',\n",
              " 'STIXSizeFiveSym',\n",
              " 'STIXSizeFourSym',\n",
              " 'STIXSizeFourSym',\n",
              " 'STIXSizeOneSym',\n",
              " 'STIXSizeOneSym',\n",
              " 'STIXSizeThreeSym',\n",
              " 'STIXSizeThreeSym',\n",
              " 'STIXSizeTwoSym',\n",
              " 'STIXSizeTwoSym',\n",
              " 'cmb10',\n",
              " 'cmex10',\n",
              " 'cmmi10',\n",
              " 'cmr10',\n",
              " 'cmss10',\n",
              " 'cmsy10',\n",
              " 'cmtt10']"
            ]
          },
          "metadata": {},
          "execution_count": 2
        }
      ]
    },
    {
      "cell_type": "code",
      "source": [
        "import matplotlib.pyplot as plt\n",
        "\n",
        "plt.rcParams['font.family'] = 'DejaVu Sans Mono'\n",
        "plt.rcParams['font.size'] = 10\n",
        "\n",
        "plt.plot([1, 2, 3])\n",
        "plt.legend(['가나다'])\n",
        "plt.title(\"안녕하세요, 한글폰트입니다.\")\n",
        "plt.show()"
      ],
      "metadata": {
        "colab": {
          "base_uri": "https://localhost:8080/",
          "height": 452
        },
        "id": "gtYQvDDzpJFA",
        "outputId": "54c30f4d-76b4-4750-87c1-9dee2f7dac11"
      },
      "execution_count": 17,
      "outputs": [
        {
          "output_type": "display_data",
          "data": {
            "text/plain": [
              "<Figure size 640x480 with 1 Axes>"
            ],
            "image/png": "[encoded data removed]"
          },
          "metadata": {}
        }
      ]
    }
  ]
}